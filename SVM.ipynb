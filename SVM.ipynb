{
 "cells": [
  {
   "cell_type": "markdown",
   "metadata": {},
   "source": [
    "# Support Vector Machine\n",
    "\n",
    "## Kegunaan SVM:\n",
    "- Klasifikasi\n",
    "- Regresi (Prediksi time series, dll)\n",
    "- Outlier Detection\n",
    "- Clustering\n",
    "\n",
    "## Perbandingan SVM dan Neural Networks\n",
    "![alt text](https://image.slidesharecdn.com/mscpresentation-140722065852-phpapp01/95/msc-presentation-bioinformatics-7-638.jpg?cb=1406012610 \"Logo Title Text 1\")\n",
    "\n",
    "- SVM cocok untuk data sets yang sedikit\n",
    "- Algoritma lain seperti random forests, deep neural networks memerlukan lebih banyak data tapi algoritma tersebut menghasilkan model yang lebih baik\n",
    "- Untuk memilih penggunaan classifier bergantung pada dataset dan kompleksitas dari permasalahannya\n",
    "\n",
    "## Apa itu Support Vector Machine?\n",
    "SVM merupakan algoritma supervised machine learning yang dapat digunakan untuk klasifikasi ataupun regresi tetapi biasanya digunakan untuk klasifikasi.\n",
    "\n",
    "SVM dapat diberikan data dengan 2 atau lebih label. SVM bertindak sebagai discriminative classifier, secara umum didefinisikan dengan hyperlane yang optimal untuk memisahkan antar class.\n",
    "\n",
    "## Apa itu Support Vector?\n",
    "![alt text](https://www.dtreg.com/uploaded/pageimg/SvmMargin2.jpg \"Logo Title Text 1\")\n",
    "\n",
    "Support vector merupakan data points yang terletak paling dekat dengan hyperplane, jika support vector dilepas maka akan mengubah posisi dari hyperplane. Oleh karena itu, support vector merupakan elements yang penting dari sebuah data set, support vectorlah yang membantu kita membangun SVM.\n",
    "\n",
    "Semakin besar margin yang dibentuk akan semakin baik, sehingga yang perlu kita lakukan adalah melakukan optimasi untuk mendapatkan hyperplane dengan margin terbesar.\n",
    "## Apa itu hyperplane?\n",
    "![alt text](http://slideplayer.com/slide/1579281/5/images/32/Hyperplanes+as+decision+surfaces.jpg \"Logo Title Text 1\")\n",
    "\n",
    "Hyperplane merupakan sub-ruang dari sebuah dimensi yang dimensinya kurang dari dimensi ruang aslinya. Pada SVM hyperplane dari sebuah dimensi n memiliki dimensi n-1.\n",
    "\n",
    "## Linear vs Non-Linear Classification?\n",
    "\n",
    "Jika data set dipisahkan secara linear maka untuk N class dengan M fitur, kita dapat memetakannya sebagai kombinasi linear (misal y =mx + b) atau dengam hyperplane multi-dimensi (misal y= x + z + b + q). Berapapun jumlah dimensi/ fitur dari data set kita akan tetap bisa untuk menggambarkan pemetaannya menggunakan sebuah fungsi linear.\n",
    "\n",
    "Jika kita kurang beruntung memiliki dataset yang tidak terpisah secara linear, contohnya saat ada sebuah quadratic mapping. Untungnya SVM  dapat melakukan klasifikasi non-linear menggunakan suatu hal yan dikenal dengan kernel trick. \n",
    "\n",
    "![alt text](https://media.licdn.com/mpr/mpr/AAEAAQAAAAAAAAuSAAAAJDlhYzcwMzhlLTA0MjYtNDEyYS1hMWM4LTE3Zjk5NDlhNzVkMQ.png \"Logo Title Text 1\")"
   ]
  },
  {
   "cell_type": "code",
   "execution_count": 15,
   "metadata": {
    "collapsed": false,
    "scrolled": false
   },
   "outputs": [
    {
     "data": {
      "text/plain": [
       "[<matplotlib.lines.Line2D at 0x7f7679f1c0f0>]"
      ]
     },
     "execution_count": 15,
     "metadata": {},
     "output_type": "execute_result"
    },
    {
     "data": {
      "image/png": "[encoded data removed]",
      "text/plain": [
       "<matplotlib.figure.Figure at 0x7f767a2c6400>"
      ]
     },
     "metadata": {},
     "output_type": "display_data"
    }
   ],
   "source": [
    "#To help us perform math operations\n",
    "import numpy as np\n",
    "#to plot our data and model visually\n",
    "from matplotlib import pyplot as plt\n",
    "%matplotlib inline\n",
    "\n",
    "#Step 1 - Define our data\n",
    "\n",
    "#Input data - Of the form [X value, Y value, Bias term]\n",
    "X = np.array([\n",
    "    [-2,4,-1],\n",
    "    [4,1,-1],\n",
    "    [1, 6, -1],\n",
    "    [2, 4, -1],\n",
    "    [6, 2, -1],\n",
    "])\n",
    "\n",
    "#Associated output labels - First 2 examples are labeled '-1' and last 3 are labeled '+1'\n",
    "y = np.array([-1,-1,1,1,1])\n",
    "\n",
    "#lets plot these examples on a 2D graph!\n",
    "#for each example\n",
    "for d, sample in enumerate(X):\n",
    "    # Plot the negative samples (the first 2)\n",
    "    if d < 2:\n",
    "        plt.scatter(sample[0], sample[1], s=120, marker='_', linewidths=2)\n",
    "    # Plot the positive samples (the last 3)\n",
    "    else:\n",
    "        plt.scatter(sample[0], sample[1], s=120, marker='+', linewidths=2)\n",
    "\n",
    "# Print a possible hyperplane, that is seperating the two classes.\n",
    "#we'll two points and draw the line between them (naive guess)\n",
    "plt.plot([-2,6],[6,0.5])"
   ]
  },
  {
   "cell_type": "markdown",
   "metadata": {
    "collapsed": true
   },
   "source": [
    "# Mendifinisikan lost function (minimize) dan objective function (optimize)\n",
    "\n",
    "## Lost Function\n",
    "\n",
    "Disini kita aka menggunakan Hinge Loss. Hinge oss merupakan lost function yang digunakan untuk \"maximum-margin\" classification, Umumnya digunakan untuk SVM\n",
    "\n",
    "![alt text](http://i.imgur.com/OzCwzyN.png \"Logo Title Text 1\")\n",
    "\n",
    "c merupakan lost function, x merupakan sample, y merupakan  label (jawaban) yang benar, f(x) merupakan label prediksi\n",
    "\n",
    "![alt text](http://i.imgur.com/FZ7JcG3.png \"Logo Title Text 1\")\n"
   ]
  },
  {
   "cell_type": "markdown",
   "metadata": {},
   "source": [
    "## Objective Function\n",
    "\n",
    "![alt text](https://i.imgur.com/BVg0oLp.png \"Logo Title Text 1\")\n",
    "\n",
    "tujuan SVM terdiri dari dua istilah. yang pertama adalah regularizer,regularizer adalah jantungnya SVM, yang kedua adalah kerugiannya. Regulatorer menyeimbangkan antara maksimisasi dan kerugian margin. jika ingin menemukan permukaan keputusan yang maksimal dari titik data manapun.\n",
    "![alt text](https://i.imgur.com/Lon8E43.png \"Logo Title Text 1\")\n",
    "\n",
    "\n",
    "Kondisi klasifikasi\n",
    "\n",
    "![alt text](https://i.imgur.com/HeJOxIb.png \"Logo Title Text 1\")\n",
    "\n",
    "Perbarui aturan untuk weight (misclassified)\n",
    "\n",
    "![alt text](https://i.imgur.com/MA7kc3R.png \"Logo Title Text 1\")\n",
    "\n",
    "termasuk tingkat  η dan regularizer λ Tingkat adalah panjang langkah yang dibuat algoritma pada gradien pada kurva kesalahan.\n",
    "- Tingkat terlalu tinggi? Algoritma mungkin melampaui titik optimal.\n",
    "- Tingkat terlalu rendah? Bisa memakan waktu terlalu lama untuk bertemu. Atau tidak pernah konvergen\n",
    "\n",
    "Regulatorer mengontrol trade off antara mencapai kesalahan pelatihan rendah dan kesalahan pengujian rendah yaitu kemampuan untuk menggeneralisasi pengklasifikasi Anda ke data yang tidak terlihat. Sebagai parameter pengatur yang kita pilih 1/epoch, jadi parameter ini akan menurun, seiring bertambahnya jumlah zaman.\n",
    "- Regularizer terlalu tinggi? overfit (kesalahan pengujian besar)\n",
    "- Regularizer terlalu rendah? kurang ajar (kesalahan pelatihan besar)\n",
    "\n",
    "Rumus update untuk weight (diklasifikasikan dengan benar)\n",
    "\n",
    "![alt text](https://i.imgur.com/QKdyb9C.png \"Logo Title Text 1\")"
   ]
  },
  {
   "cell_type": "code",
   "execution_count": 16,
   "metadata": {
    "collapsed": true
   },
   "outputs": [],
   "source": [
    "#lets perform stochastic gradient descent to learn the seperating hyperplane between both classes\n",
    "\n",
    "def svm_sgd_plot(X, Y):\n",
    "    #Initialize our SVMs weight vector with zeros (3 values)\n",
    "    w = np.zeros(len(X[0]))\n",
    "    #The learning rate\n",
    "    eta = 1\n",
    "    #how many iterations to train for\n",
    "    epochs = 100000\n",
    "    #store misclassifications so we can plot how they change over time\n",
    "    errors = []\n",
    "\n",
    "    #training part, gradient descent part\n",
    "    for epoch in range(1,epochs):\n",
    "        error = 0\n",
    "        for i, x in enumerate(X):\n",
    "            #misclassification\n",
    "            if (Y[i]*np.dot(X[i], w)) < 1:\n",
    "                #misclassified update for ours weights\n",
    "                w = w + eta * ( (X[i] * Y[i]) + (-2  *(1/epoch)* w) )\n",
    "                error = 1\n",
    "            else:\n",
    "                #correct classification, update our weights\n",
    "                w = w + eta * (-2  *(1/epoch)* w)\n",
    "        errors.append(error)\n",
    "        \n",
    "\n",
    "    #lets plot the rate of classification errors during training for our SVM\n",
    "    plt.plot(errors, '|')\n",
    "    plt.ylim(0.5,1.5)\n",
    "    plt.axes().set_yticklabels([])\n",
    "    plt.xlabel('Epoch')\n",
    "    plt.ylabel('Misclassified')\n",
    "    plt.show()\n",
    "    \n",
    "    return w"
   ]
  },
  {
   "cell_type": "code",
   "execution_count": 17,
   "metadata": {
    "collapsed": false
   },
   "outputs": [
    {
     "data": {
      "image/png": "[encoded data removed]",
      "text/plain": [
       "<matplotlib.figure.Figure at 0x7f7679e49c88>"
      ]
     },
     "metadata": {},
     "output_type": "display_data"
    }
   ],
   "source": [
    "w = svm_sgd_plot(X,y)"
   ]
  },
  {
   "cell_type": "code",
   "execution_count": 18,
   "metadata": {
    "collapsed": false
   },
   "outputs": [
    {
     "data": {
      "text/plain": [
       "<matplotlib.quiver.Quiver at 0x7f7679dc3160>"
      ]
     },
     "execution_count": 18,
     "metadata": {},
     "output_type": "execute_result"
    },
    {
     "data": {
      "image/png": "[encoded data removed]",
      "text/plain": [
       "<matplotlib.figure.Figure at 0x7f767a1ad2e8>"
      ]
     },
     "metadata": {},
     "output_type": "display_data"
    }
   ],
   "source": [
    "for d, sample in enumerate(X):\n",
    "    # Plot the negative samples\n",
    "    if d < 2:\n",
    "        plt.scatter(sample[0], sample[1], s=120, marker='_', linewidths=2)\n",
    "    # Plot the positive samples\n",
    "    else:\n",
    "        plt.scatter(sample[0], sample[1], s=120, marker='+', linewidths=2)\n",
    "\n",
    "# Add our test samples\n",
    "plt.scatter(2,2, s=120, marker='_', linewidths=2, color='yellow')\n",
    "plt.scatter(4,3, s=120, marker='+', linewidths=2, color='red')\n",
    "\n",
    "# Print the hyperplane calculated by svm_sgd()\n",
    "x2=[w[0],w[1],-w[1],w[0]]\n",
    "x3=[w[0],w[1],w[1],-w[0]]\n",
    "\n",
    "x2x3 =np.array([x2,x3])\n",
    "X,Y,U,V = zip(*x2x3)\n",
    "ax = plt.gca()\n",
    "ax.quiver(X,Y,U,V,scale=1, color='blue')"
   ]
  },
  {
   "cell_type": "code",
   "execution_count": null,
   "metadata": {
    "collapsed": true
   },
   "outputs": [],
   "source": []
  }
 ],
 "metadata": {
  "anaconda-cloud": {},
  "kernelspec": {
   "display_name": "Python [default]",
   "language": "python",
   "name": "python3"
  },
  "language_info": {
   "codemirror_mode": {
    "name": "ipython",
    "version": 3
   },
   "file_extension": ".py",
   "mimetype": "text/x-python",
   "name": "python",
   "nbconvert_exporter": "python",
   "pygments_lexer": "ipython3",
   "version": "3.5.2"
  }
 },
 "nbformat": 4,
 "nbformat_minor": 1
}
